{
 "cells": [
  {
   "cell_type": "markdown",
   "id": "8ba37e23",
   "metadata": {},
   "source": [
    "Write a program to find all pairs of an integer array whose sum is equal to a given number?"
   ]
  },
  {
   "cell_type": "code",
   "execution_count": null,
   "id": "1f6e6059",
   "metadata": {},
   "outputs": [],
   "source": []
  },
  {
   "cell_type": "code",
   "execution_count": 23,
   "id": "d7343345",
   "metadata": {},
   "outputs": [
    {
     "name": "stdout",
     "output_type": "stream",
     "text": [
      "5\n",
      "1 5 7 -1 5\n",
      "Enter the sum whose pairs available in array you need to return6\n",
      "1 5\n",
      "1 5\n",
      "7 -1\n"
     ]
    }
   ],
   "source": [
    "print(\"Enter the number of elements in the arr\")\n",
    "n = int(input())\n",
    "print(\"enter the elements separated by space\")\n",
    "arr = [int(x) for x in input().split()]\n",
    "add = int (input(\"Enter the sum whose pairs available in array you need to return\"))\n",
    "\n",
    "for i in range(len(arr)):\n",
    "    for j in range(len(arr)):\n",
    "        if j<i:\n",
    "            continue\n",
    "        if arr[i] + arr[j] == add:\n",
    "            print (arr[i],arr[j])\n",
    "        j+=1\n",
    "    i+=1\n",
    "    \n",
    "        "
   ]
  },
  {
   "cell_type": "code",
   "execution_count": null,
   "id": "e69f6686",
   "metadata": {},
   "outputs": [],
   "source": []
  }
 ],
 "metadata": {
  "kernelspec": {
   "display_name": "Python 3 (ipykernel)",
   "language": "python",
   "name": "python3"
  },
  "language_info": {
   "codemirror_mode": {
    "name": "ipython",
    "version": 3
   },
   "file_extension": ".py",
   "mimetype": "text/x-python",
   "name": "python",
   "nbconvert_exporter": "python",
   "pygments_lexer": "ipython3",
   "version": "3.10.1"
  }
 },
 "nbformat": 4,
 "nbformat_minor": 5
}
