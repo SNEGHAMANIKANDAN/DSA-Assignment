{
 "cells": [
  {
   "cell_type": "code",
   "execution_count": null,
   "id": "15692b6e",
   "metadata": {},
   "outputs": [],
   "source": [
    "a program to find the smallest number using a stack."
   ]
  },
  {
   "cell_type": "code",
   "execution_count": 18,
   "id": "2a295a0f",
   "metadata": {},
   "outputs": [],
   "source": [
    "class Stack():\n",
    "    def __init__(self):\n",
    "        self.top = -1\n",
    "        self.max_size = 10\n",
    "        self.container = [None] * self.max_size\n",
    "        self.count = 0\n",
    "        \n",
    "    def is_empty(self):\n",
    "        return self.top == -1\n",
    "    \n",
    "    def is_full(self):\n",
    "        return self.top == self.max_size - 1\n",
    "    \n",
    "    def push(self,value):\n",
    "        if self.is_full():\n",
    "            print(\"Stack Full\")\n",
    "            return None\n",
    "        \n",
    "        self.top +=1\n",
    "        self.container[self.top] = value\n",
    "        self.count +=1\n",
    "        \n",
    "    def pop(self):\n",
    "        if self.is_empty():\n",
    "            print (\"Stack empty\")\n",
    "            return None\n",
    "        \n",
    "        value = self.container[self.top]\n",
    "        self.top -=1\n",
    "        self.count -=1 \n",
    "        return value\n",
    "    \n",
    "    def peek(self):\n",
    "        return self.container[self.top]\n",
    "    \n",
    "    def traverse(self):\n",
    "        i = self.top\n",
    "        while i > -1:\n",
    "            print(self.container[i], end = \"|->\")\n",
    "            i-=1\n",
    "        print()\n",
    "        #print(self.count)"
   ]
  },
  {
   "cell_type": "code",
   "execution_count": 26,
   "id": "baba3f6d",
   "metadata": {},
   "outputs": [
    {
     "name": "stdout",
     "output_type": "stream",
     "text": [
      "10|->1|->-9|->8|->3|->5|->4|->\n"
     ]
    }
   ],
   "source": [
    "stack1 = Stack()\n",
    "stack1.push(4)\n",
    "stack1.push(5)\n",
    "stack1.push(3)\n",
    "stack1.push(8)\n",
    "stack1.push(-9)\n",
    "stack1.push(1)\n",
    "stack1.push(10)\n",
    "stack1.traverse()"
   ]
  },
  {
   "cell_type": "code",
   "execution_count": 27,
   "id": "ba6ac59c",
   "metadata": {},
   "outputs": [
    {
     "name": "stdout",
     "output_type": "stream",
     "text": [
      "-9\n"
     ]
    }
   ],
   "source": [
    "minval = 9999\n",
    "for i in range (stack1.count):\n",
    "    value = stack1.pop()\n",
    "    if value < minval:\n",
    "        minval = value\n",
    "print(minval)"
   ]
  },
  {
   "cell_type": "code",
   "execution_count": null,
   "id": "975e3162",
   "metadata": {},
   "outputs": [],
   "source": []
  }
 ],
 "metadata": {
  "kernelspec": {
   "display_name": "Python 3 (ipykernel)",
   "language": "python",
   "name": "python3"
  },
  "language_info": {
   "codemirror_mode": {
    "name": "ipython",
    "version": 3
   },
   "file_extension": ".py",
   "mimetype": "text/x-python",
   "name": "python",
   "nbconvert_exporter": "python",
   "pygments_lexer": "ipython3",
   "version": "3.10.1"
  }
 },
 "nbformat": 4,
 "nbformat_minor": 5
}
