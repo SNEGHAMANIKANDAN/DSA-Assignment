{
 "cells": [
  {
   "cell_type": "markdown",
   "id": "33e91102",
   "metadata": {},
   "source": [
    "Write a program to check if two strings are a rotation of each other?"
   ]
  },
  {
   "cell_type": "code",
   "execution_count": 4,
   "id": "ece65829",
   "metadata": {},
   "outputs": [
    {
     "name": "stdout",
     "output_type": "stream",
     "text": [
      "madam\n",
      "damm\n",
      "damm is rotation of madam\n",
      "madam is not a rotation of damm\n"
     ]
    }
   ],
   "source": [
    "str1 = input()\n",
    "str2 = input()\n",
    "concatstr1 = str1 + str1\n",
    "concatstr2 = str2 + str2\n",
    "\n",
    "if str2 in concatstr1:\n",
    "    print(f'{str2} is rotation of {str1}')\n",
    "    \n",
    "else:\n",
    "    print (f'{str2} is not a rotation of {str1}')\n",
    "    \n",
    "if str1 in concatstr2:\n",
    "    print(f'{str1} is rotation of {str2}')\n",
    "    \n",
    "else:\n",
    "    print (f'{str1} is not a rotation of {str2}')\n"
   ]
  },
  {
   "cell_type": "code",
   "execution_count": null,
   "id": "269b7237",
   "metadata": {},
   "outputs": [],
   "source": []
  }
 ],
 "metadata": {
  "kernelspec": {
   "display_name": "Python 3 (ipykernel)",
   "language": "python",
   "name": "python3"
  },
  "language_info": {
   "codemirror_mode": {
    "name": "ipython",
    "version": 3
   },
   "file_extension": ".py",
   "mimetype": "text/x-python",
   "name": "python",
   "nbconvert_exporter": "python",
   "pygments_lexer": "ipython3",
   "version": "3.10.1"
  }
 },
 "nbformat": 4,
 "nbformat_minor": 5
}
