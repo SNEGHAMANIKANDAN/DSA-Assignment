{
 "cells": [
  {
   "cell_type": "markdown",
   "id": "1020a42c",
   "metadata": {},
   "source": [
    "Write a program to print the first non-repeated character from a stringm"
   ]
  },
  {
   "cell_type": "code",
   "execution_count": 8,
   "id": "07632a14",
   "metadata": {},
   "outputs": [
    {
     "name": "stdout",
     "output_type": "stream",
     "text": [
      "snegha manikandan\n",
      "['s', 'n', 'e', 'g', 'h', 'a', ' ', 'm', 'i', 'k', 'd']\n"
     ]
    }
   ],
   "source": [
    "string = input()\n",
    "arr = [i for i in string]\n",
    "unique_arr = []\n",
    "for i in range(len(arr)):\n",
    "    if arr[i] in unique_arr:\n",
    "        continue\n",
    "    else:\n",
    "        unique_arr.append(arr[i])\n",
    "        \n",
    "print(unique_arr)\n",
    "    "
   ]
  },
  {
   "cell_type": "code",
   "execution_count": null,
   "id": "837f17f8",
   "metadata": {},
   "outputs": [],
   "source": []
  },
  {
   "cell_type": "code",
   "execution_count": null,
   "id": "b20c7520",
   "metadata": {},
   "outputs": [],
   "source": []
  }
 ],
 "metadata": {
  "kernelspec": {
   "display_name": "Python 3 (ipykernel)",
   "language": "python",
   "name": "python3"
  },
  "language_info": {
   "codemirror_mode": {
    "name": "ipython",
    "version": 3
   },
   "file_extension": ".py",
   "mimetype": "text/x-python",
   "name": "python",
   "nbconvert_exporter": "python",
   "pygments_lexer": "ipython3",
   "version": "3.10.1"
  }
 },
 "nbformat": 4,
 "nbformat_minor": 5
}
