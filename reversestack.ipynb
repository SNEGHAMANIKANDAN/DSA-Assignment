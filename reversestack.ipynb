{
 "cells": [
  {
   "cell_type": "code",
   "execution_count": 32,
   "id": "a492d1ef",
   "metadata": {},
   "outputs": [],
   "source": [
    "class Stack:\n",
    "    def __init__(self):\n",
    "        self.top = -1\n",
    "        self.max_size = 10\n",
    "        self.container = [None] * self.max_size\n",
    "        self.size = 0\n",
    "        \n",
    "    def is_empty(self):\n",
    "        return self.top == -1\n",
    "    \n",
    "    def is_full(self):\n",
    "        return self.top == self.max_size-1\n",
    "    \n",
    "    def push(self,data):\n",
    "        if self.is_full():\n",
    "            print(\"stack full\")\n",
    "            return None\n",
    "        \n",
    "        self.top += 1\n",
    "        self.container[self.top] = data\n",
    "        self.size +=1\n",
    "        \n",
    "    def pop(self):\n",
    "        if self.is_empty():\n",
    "            print(\"Stack empty\")\n",
    "            return None\n",
    "        \n",
    "        value = self.container[self.top]\n",
    "        self.top -= 1\n",
    "        return value\n",
    "    \n",
    "    def delete_stack(self):\n",
    "        self.top = -1\n",
    "        \n",
    "    def peek(self):\n",
    "        return self.container[self.top]\n",
    "    \n",
    "    def traverse(self):\n",
    "        i = self.top\n",
    "        while i > -1:\n",
    "            print (self.container[i], end = \"|->\")\n",
    "            i-=1\n",
    "        print ()\n",
    "    \n",
    "    def reversetraverse(self):\n",
    "        i = self.top\n",
    "        while i > -1:\n",
    "            i-=1\n",
    "        i+=1\n",
    "        while i < self.size:\n",
    "            print (self.container[i], end = \"|->\")\n",
    "            i+=1\n",
    "    \n",
    "        print()\n",
    "    \n",
    "\n",
    "    "
   ]
  },
  {
   "cell_type": "code",
   "execution_count": 33,
   "id": "029826dd",
   "metadata": {},
   "outputs": [
    {
     "name": "stdout",
     "output_type": "stream",
     "text": [
      "stack as inputted\n",
      "17|->3|->2|->7|->10|->5|->\n"
     ]
    }
   ],
   "source": [
    "stack1 = Stack()\n",
    "stack1.push(5)\n",
    "stack1.push(10)\n",
    "stack1.push(7)\n",
    "stack1.push(2)\n",
    "stack1.push(3)\n",
    "stack1.push(17)\n",
    "print(\"stack as inputted\")\n",
    "stack1.traverse()"
   ]
  },
  {
   "cell_type": "code",
   "execution_count": 34,
   "id": "a5bf8731",
   "metadata": {},
   "outputs": [
    {
     "name": "stdout",
     "output_type": "stream",
     "text": [
      "5|->10|->7|->2|->3|->17|->\n"
     ]
    }
   ],
   "source": [
    "stack1.reversetraverse()"
   ]
  },
  {
   "cell_type": "code",
   "execution_count": 35,
   "id": "22da4803",
   "metadata": {},
   "outputs": [
    {
     "name": "stdout",
     "output_type": "stream",
     "text": [
      "5|->10|->7|->2|->3|->17|->\n"
     ]
    }
   ],
   "source": [
    "stack2 = Stack()\n",
    "for i in range(stack1.size):\n",
    "    value = stack1.pop()\n",
    "    stack2.push(value)\n",
    "    \n",
    "stack2.traverse()\n",
    "    "
   ]
  },
  {
   "cell_type": "code",
   "execution_count": null,
   "id": "24627e04",
   "metadata": {},
   "outputs": [],
   "source": []
  }
 ],
 "metadata": {
  "kernelspec": {
   "display_name": "Python 3 (ipykernel)",
   "language": "python",
   "name": "python3"
  },
  "language_info": {
   "codemirror_mode": {
    "name": "ipython",
    "version": 3
   },
   "file_extension": ".py",
   "mimetype": "text/x-python",
   "name": "python",
   "nbconvert_exporter": "python",
   "pygments_lexer": "ipython3",
   "version": "3.10.1"
  }
 },
 "nbformat": 4,
 "nbformat_minor": 5
}
