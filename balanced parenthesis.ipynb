{
 "cells": [
  {
   "cell_type": "code",
   "execution_count": null,
   "id": "29bfbcb6",
   "metadata": {},
   "outputs": [],
   "source": [
    " a program to check if all the brackets "
   ]
  },
  {
   "cell_type": "code",
   "execution_count": 1,
   "id": "9ea6636e",
   "metadata": {},
   "outputs": [
    {
     "name": "stdout",
     "output_type": "stream",
     "text": [
      "Enter the equation2 * ( ( 4/2 ) + 5\n",
      "the equation2 * ( ( 4/2 ) + 5 has no balanced parenthesis\n"
     ]
    }
   ],
   "source": [
    "def balancedEq(string):\n",
    "    eq= []\n",
    "    for i in string:\n",
    "        if i == \"{\" or i == \"(\" or i == \"[\":\n",
    "            eq.append(i)\n",
    "        elif i == \")\" and eq[-1] == \"(\":\n",
    "            eq.pop()\n",
    "        elif i == \"}\" and eq[-1] == \"{\":\n",
    "            eq.pop()\n",
    "        elif i == \"]\" and eq[-1] == \"[\":\n",
    "            eq.pop()\n",
    "        else:\n",
    "            pass\n",
    "        #print (eq)\n",
    "    return eq\n",
    "\n",
    "if __name__ == '__main__':\n",
    "    s = input(\"Enter the equation\")\n",
    "    eqlist=[]\n",
    "    eqlist = balancedEq(s)\n",
    "    #print (eqlist)\n",
    "    if eqlist == []:\n",
    "        print(f\"the equation{s} has balanced parenthesis\")\n",
    "    else:\n",
    "        print(f\"the equation{s} has no balanced parenthesis\")\n"
   ]
  },
  {
   "cell_type": "code",
   "execution_count": 2,
   "id": "51de8c95",
   "metadata": {},
   "outputs": [
    {
     "name": "stdout",
     "output_type": "stream",
     "text": [
      "Enter the equation( )[ { } ( ) ]\n",
      "the equation( )[ { } ( ) ] has balanced parenthesis\n"
     ]
    }
   ],
   "source": [
    "def balancedEq(string):\n",
    "    eq= []\n",
    "    for i in string:\n",
    "        if i == \"{\" or i == \"(\" or i == \"[\":\n",
    "            eq.append(i)\n",
    "        elif i == \")\" and eq[-1] == \"(\":\n",
    "            eq.pop()\n",
    "        elif i == \"}\" and eq[-1] == \"{\":\n",
    "            eq.pop()\n",
    "        elif i == \"]\" and eq[-1] == \"[\":\n",
    "            eq.pop()\n",
    "        else:\n",
    "            pass\n",
    "        #print (eq)\n",
    "    return eq\n",
    "\n",
    "if __name__ == '__main__':\n",
    "    s = input(\"Enter the equation\")\n",
    "    eqlist=[]\n",
    "    eqlist = balancedEq(s)\n",
    "    #print (eqlist)\n",
    "    if eqlist == []:\n",
    "        print(f\"the equation{s} has balanced parenthesis\")\n",
    "    else:\n",
    "        print(f\"the equation{s} has no balanced parenthesis\")\n"
   ]
  },
  {
   "cell_type": "code",
   "execution_count": null,
   "id": "ba59fcc0",
   "metadata": {},
   "outputs": [],
   "source": []
  },
  {
   "cell_type": "code",
   "execution_count": null,
   "id": "7f950ef9",
   "metadata": {},
   "outputs": [],
   "source": []
  }
 ],
 "metadata": {
  "kernelspec": {
   "display_name": "Python 3 (ipykernel)",
   "language": "python",
   "name": "python3"
  },
  "language_info": {
   "codemirror_mode": {
    "name": "ipython",
    "version": 3
   },
   "file_extension": ".py",
   "mimetype": "text/x-python",
   "name": "python",
   "nbconvert_exporter": "python",
   "pygments_lexer": "ipython3",
   "version": "3.10.1"
  }
 },
 "nbformat": 4,
 "nbformat_minor": 5
}
